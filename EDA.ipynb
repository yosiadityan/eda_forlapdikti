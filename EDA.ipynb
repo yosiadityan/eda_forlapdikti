{
 "cells": [
  {
   "cell_type": "markdown",
   "metadata": {},
   "source": [
    "# Import Modules"
   ]
  },
  {
   "cell_type": "code",
   "execution_count": 1,
   "metadata": {},
   "outputs": [],
   "source": [
    "import numpy as np\n",
    "import pandas as pd\n",
    "import bs4\n",
    "import requests\n",
    "import re\n",
    "from dotenv import load_dotenv\n",
    "import os\n",
    "import sqlalchemy as db\n",
    "from geopy.geocoders import Nominatim, Photon\n",
    "import folium\n",
    "\n",
    "import matplotlib.pyplot as plt\n",
    "import seaborn as sns\n",
    "import pydeck as pdk\n",
    "\n",
    "%matplotlib inline"
   ]
  },
  {
   "cell_type": "markdown",
   "metadata": {},
   "source": [
    "# Data Wrangling"
   ]
  },
  {
   "cell_type": "markdown",
   "metadata": {},
   "source": [
    "### Load .env file"
   ]
  },
  {
   "cell_type": "code",
   "execution_count": 35,
   "metadata": {},
   "outputs": [
    {
     "data": {
      "text/plain": [
       "True"
      ]
     },
     "execution_count": 35,
     "metadata": {},
     "output_type": "execute_result"
    }
   ],
   "source": [
    "load_dotenv()"
   ]
  },
  {
   "cell_type": "code",
   "execution_count": 3,
   "metadata": {},
   "outputs": [],
   "source": [
    "COOKIES = {'FORLAPDIKTI': os.getenv('FORLAPDIKTI'), \n",
    "           'PHPSESSID': os.getenv('PHPSESSID'), \n",
    "           'FGTServer': os.getenv('ADRUM')}\n",
    "\n",
    "BASE_URL = 'https://forlap.kemdikbud.go.id/perguruantinggi/search'"
   ]
  },
  {
   "cell_type": "markdown",
   "metadata": {},
   "source": [
    "### Fetch universities data from web"
   ]
  },
  {
   "cell_type": "code",
   "execution_count": 7,
   "metadata": {},
   "outputs": [],
   "source": [
    "data = pd.DataFrame()\n",
    "PAGE = 0\n",
    "\n",
    "while True:\n",
    "    response = requests.get(f'https://forlap.kemdikbud.go.id/perguruantinggi/search/{PAGE}', cookies=COOKIES)\n",
    "    soup = bs4.BeautifulSoup(response.text, 'lxml')\n",
    "    \n",
    "    new_table = pd.read_html(response.text, thousands='.')[0]\n",
    "    data = pd.concat([data, new_table], ignore_index=True)\n",
    "    \n",
    "    if soup.select('div.pagination ul li')[-1].find_all('a') == []:\n",
    "        break\n",
    "    else:\n",
    "        PAGE += 20"
   ]
  },
  {
   "cell_type": "markdown",
   "metadata": {},
   "source": [
    "### Fetch major data of each universites from web (Cannot be done)"
   ]
  },
  {
   "cell_type": "code",
   "execution_count": 8,
   "metadata": {},
   "outputs": [],
   "source": [
    "data_prodi = pd.DataFrame()\n",
    "PAGE = 0\n",
    "\n",
    "while True:\n",
    "    response = requests.get(f'https://forlap.kemdikbud.go.id/perguruantinggi/search/{PAGE}', cookies=COOKIES)\n",
    "    soup = bs4.BeautifulSoup(response.text, 'lxml')\n",
    "    \n",
    "    list_univ = [(x.select('td')[1].getText().strip(), \n",
    "                  x.select('td')[2].getText(),\n",
    "                  x.select('a')[0]['href']) \n",
    "                  for x in soup.select('tr.ttop') if x.select('td')[3].getText() == 'Prov. Kalimantan Utara']\n",
    "    for kode, nama, link in list_univ:\n",
    "        response = requests.get(link)\n",
    "        prodi_univ = pd.read_html(response.text, thousands='.')[-1]\n",
    "        prodi_univ[('Kode PT', 'Kode PT')] = kode\n",
    "        prodi_univ[('Nama PT', 'Nama PT')] = nama\n",
    "        data_prodi = pd.concat([data_prodi, prodi_univ], ignore_index=True)\n",
    "    \n",
    "    if soup.select('div.pagination ul li')[-1].find_all('a') == []:\n",
    "        break\n",
    "    else:\n",
    "        PAGE += 20"
   ]
  },
  {
   "cell_type": "markdown",
   "metadata": {},
   "source": [
    "### Rename columns name and transform dataframe into non-multiindex"
   ]
  },
  {
   "cell_type": "code",
   "execution_count": 9,
   "metadata": {},
   "outputs": [
    {
     "data": {
      "text/plain": [
       "['No.',\n",
       " 'Kode PT',\n",
       " 'Nama PT',\n",
       " 'Provinsi',\n",
       " 'Kategori',\n",
       " 'Status',\n",
       " 'Jml Dosen Tetap 2018/2019',\n",
       " 'Jml Mhs 2018/2019',\n",
       " 'Rasio Dosen Tetap/Jumlah Mahasiswa 2018/2019',\n",
       " 'Jml Dosen Tetap 2019/2020',\n",
       " 'Jml Mhs 2019/2020',\n",
       " 'Rasio Dosen Tetap/Jumlah Mahasiswa 2019/2020']"
      ]
     },
     "execution_count": 9,
     "metadata": {},
     "output_type": "execute_result"
    }
   ],
   "source": [
    "first = list(data.columns.get_level_values(1)[:6])\n",
    "second = list(map(lambda x: x+' 2018/2019', data.columns.get_level_values(1)[6:9]))\n",
    "third = list(map(lambda x: x+' 2019/2020', data.columns.get_level_values(1)[9:]))\n",
    "\n",
    "column_names = first + second + third\n",
    "column_names"
   ]
  },
  {
   "cell_type": "code",
   "execution_count": 10,
   "metadata": {
    "scrolled": true
   },
   "outputs": [
    {
     "data": {
      "text/html": [
       "<div>\n",
       "<style scoped>\n",
       "    .dataframe tbody tr th:only-of-type {\n",
       "        vertical-align: middle;\n",
       "    }\n",
       "\n",
       "    .dataframe tbody tr th {\n",
       "        vertical-align: top;\n",
       "    }\n",
       "\n",
       "    .dataframe thead th {\n",
       "        text-align: right;\n",
       "    }\n",
       "</style>\n",
       "<table border=\"1\" class=\"dataframe\">\n",
       "  <thead>\n",
       "    <tr style=\"text-align: right;\">\n",
       "      <th></th>\n",
       "      <th>No.</th>\n",
       "      <th>Kode PT</th>\n",
       "      <th>Nama PT</th>\n",
       "      <th>Provinsi</th>\n",
       "      <th>Kategori</th>\n",
       "      <th>Status</th>\n",
       "      <th>Jml Dosen Tetap 2018/2019</th>\n",
       "      <th>Jml Mhs 2018/2019</th>\n",
       "      <th>Rasio Dosen Tetap/Jumlah Mahasiswa 2018/2019</th>\n",
       "      <th>Jml Dosen Tetap 2019/2020</th>\n",
       "      <th>Jml Mhs 2019/2020</th>\n",
       "      <th>Rasio Dosen Tetap/Jumlah Mahasiswa 2019/2020</th>\n",
       "    </tr>\n",
       "  </thead>\n",
       "  <tbody>\n",
       "    <tr>\n",
       "      <th>0</th>\n",
       "      <td>1</td>\n",
       "      <td>0</td>\n",
       "      <td>NaN</td>\n",
       "      <td>NaN</td>\n",
       "      <td>NaN</td>\n",
       "      <td>NaN</td>\n",
       "      <td>0</td>\n",
       "      <td>0</td>\n",
       "      <td>1 :</td>\n",
       "      <td>0</td>\n",
       "      <td>0</td>\n",
       "      <td>1 : 0</td>\n",
       "    </tr>\n",
       "    <tr>\n",
       "      <th>1</th>\n",
       "      <td>2</td>\n",
       "      <td>1001</td>\n",
       "      <td>Universitas Gadjah Mada</td>\n",
       "      <td>Prov. D.I. Yogyakarta</td>\n",
       "      <td>Negeri</td>\n",
       "      <td>Aktif</td>\n",
       "      <td>2703</td>\n",
       "      <td>56200</td>\n",
       "      <td>1 : 20.8</td>\n",
       "      <td>2703</td>\n",
       "      <td>56142</td>\n",
       "      <td>1 : 20.8</td>\n",
       "    </tr>\n",
       "    <tr>\n",
       "      <th>2</th>\n",
       "      <td>3</td>\n",
       "      <td>1002</td>\n",
       "      <td>Universitas Indonesia</td>\n",
       "      <td>Prov. D.K.I. Jakarta</td>\n",
       "      <td>Negeri</td>\n",
       "      <td>Aktif</td>\n",
       "      <td>2273</td>\n",
       "      <td>46248</td>\n",
       "      <td>1 : 20.3</td>\n",
       "      <td>2273</td>\n",
       "      <td>39826</td>\n",
       "      <td>1 : 17.5</td>\n",
       "    </tr>\n",
       "    <tr>\n",
       "      <th>3</th>\n",
       "      <td>4</td>\n",
       "      <td>1003</td>\n",
       "      <td>Universitas Sumatera Utara</td>\n",
       "      <td>Prov. Sumatera Utara</td>\n",
       "      <td>Negeri</td>\n",
       "      <td>Aktif</td>\n",
       "      <td>1633</td>\n",
       "      <td>44432</td>\n",
       "      <td>1 : 27.2</td>\n",
       "      <td>1633</td>\n",
       "      <td>41468</td>\n",
       "      <td>1 : 25.4</td>\n",
       "    </tr>\n",
       "    <tr>\n",
       "      <th>4</th>\n",
       "      <td>5</td>\n",
       "      <td>1004</td>\n",
       "      <td>Universitas Airlangga</td>\n",
       "      <td>Prov. Jawa Timur</td>\n",
       "      <td>Negeri</td>\n",
       "      <td>Aktif</td>\n",
       "      <td>1779</td>\n",
       "      <td>36253</td>\n",
       "      <td>1 : 20.4</td>\n",
       "      <td>1779</td>\n",
       "      <td>35766</td>\n",
       "      <td>1 : 20.1</td>\n",
       "    </tr>\n",
       "  </tbody>\n",
       "</table>\n",
       "</div>"
      ],
      "text/plain": [
       "   No.  Kode PT                     Nama PT               Provinsi Kategori  \\\n",
       "0    1        0                         NaN                    NaN      NaN   \n",
       "1    2     1001     Universitas Gadjah Mada  Prov. D.I. Yogyakarta   Negeri   \n",
       "2    3     1002       Universitas Indonesia   Prov. D.K.I. Jakarta   Negeri   \n",
       "3    4     1003  Universitas Sumatera Utara   Prov. Sumatera Utara   Negeri   \n",
       "4    5     1004       Universitas Airlangga       Prov. Jawa Timur   Negeri   \n",
       "\n",
       "  Status  Jml Dosen Tetap 2018/2019  Jml Mhs 2018/2019  \\\n",
       "0    NaN                          0                  0   \n",
       "1  Aktif                       2703              56200   \n",
       "2  Aktif                       2273              46248   \n",
       "3  Aktif                       1633              44432   \n",
       "4  Aktif                       1779              36253   \n",
       "\n",
       "  Rasio Dosen Tetap/Jumlah Mahasiswa 2018/2019  Jml Dosen Tetap 2019/2020  \\\n",
       "0                                          1 :                          0   \n",
       "1                                     1 : 20.8                       2703   \n",
       "2                                     1 : 20.3                       2273   \n",
       "3                                     1 : 27.2                       1633   \n",
       "4                                     1 : 20.4                       1779   \n",
       "\n",
       "   Jml Mhs 2019/2020 Rasio Dosen Tetap/Jumlah Mahasiswa 2019/2020  \n",
       "0                  0                                        1 : 0  \n",
       "1              56142                                     1 : 20.8  \n",
       "2              39826                                     1 : 17.5  \n",
       "3              41468                                     1 : 25.4  \n",
       "4              35766                                     1 : 20.1  "
      ]
     },
     "execution_count": 10,
     "metadata": {},
     "output_type": "execute_result"
    }
   ],
   "source": [
    "data.columns = data.columns.droplevel(level=0)\n",
    "data.columns = column_names\n",
    "data.head(5)"
   ]
  },
  {
   "cell_type": "markdown",
   "metadata": {},
   "source": [
    "### Delete Rows/Columns"
   ]
  },
  {
   "cell_type": "code",
   "execution_count": 15,
   "metadata": {},
   "outputs": [
    {
     "data": {
      "text/plain": [
       "(5717, 12)"
      ]
     },
     "execution_count": 15,
     "metadata": {},
     "output_type": "execute_result"
    }
   ],
   "source": [
    "# Before deletion\n",
    "data.shape"
   ]
  },
  {
   "cell_type": "code",
   "execution_count": 46,
   "metadata": {},
   "outputs": [
    {
     "data": {
      "text/plain": [
       "(5716, 11)"
      ]
     },
     "execution_count": 46,
     "metadata": {},
     "output_type": "execute_result"
    }
   ],
   "source": [
    "# After deletion\n",
    "data.dropna(subset=['Nama PT'], inplace=True)\n",
    "data.drop(labels='No.', axis=1, inplace=True)\n",
    "data.shape"
   ]
  },
  {
   "cell_type": "markdown",
   "metadata": {},
   "source": [
    "### Value Reformatting"
   ]
  },
  {
   "cell_type": "code",
   "execution_count": 47,
   "metadata": {},
   "outputs": [
    {
     "data": {
      "text/html": [
       "<div>\n",
       "<style scoped>\n",
       "    .dataframe tbody tr th:only-of-type {\n",
       "        vertical-align: middle;\n",
       "    }\n",
       "\n",
       "    .dataframe tbody tr th {\n",
       "        vertical-align: top;\n",
       "    }\n",
       "\n",
       "    .dataframe thead th {\n",
       "        text-align: right;\n",
       "    }\n",
       "</style>\n",
       "<table border=\"1\" class=\"dataframe\">\n",
       "  <thead>\n",
       "    <tr style=\"text-align: right;\">\n",
       "      <th></th>\n",
       "      <th>Kode PT</th>\n",
       "      <th>Nama PT</th>\n",
       "      <th>Provinsi</th>\n",
       "      <th>Kategori</th>\n",
       "      <th>Status</th>\n",
       "      <th>Jml Dosen Tetap 2018/2019</th>\n",
       "      <th>Jml Mhs 2018/2019</th>\n",
       "      <th>Rasio Dosen Tetap/Jumlah Mahasiswa 2018/2019</th>\n",
       "      <th>Jml Dosen Tetap 2019/2020</th>\n",
       "      <th>Jml Mhs 2019/2020</th>\n",
       "      <th>Rasio Dosen Tetap/Jumlah Mahasiswa 2019/2020</th>\n",
       "    </tr>\n",
       "  </thead>\n",
       "  <tbody>\n",
       "    <tr>\n",
       "      <th>1</th>\n",
       "      <td>1001</td>\n",
       "      <td>Universitas Gadjah Mada</td>\n",
       "      <td>D.I. Yogyakarta</td>\n",
       "      <td>Negeri</td>\n",
       "      <td>Aktif</td>\n",
       "      <td>2703</td>\n",
       "      <td>56200</td>\n",
       "      <td>1 : 20.8</td>\n",
       "      <td>2703</td>\n",
       "      <td>56142</td>\n",
       "      <td>1 : 20.8</td>\n",
       "    </tr>\n",
       "    <tr>\n",
       "      <th>2</th>\n",
       "      <td>1002</td>\n",
       "      <td>Universitas Indonesia</td>\n",
       "      <td>D.K.I. Jakarta</td>\n",
       "      <td>Negeri</td>\n",
       "      <td>Aktif</td>\n",
       "      <td>2273</td>\n",
       "      <td>46248</td>\n",
       "      <td>1 : 20.3</td>\n",
       "      <td>2273</td>\n",
       "      <td>39826</td>\n",
       "      <td>1 : 17.5</td>\n",
       "    </tr>\n",
       "    <tr>\n",
       "      <th>3</th>\n",
       "      <td>1003</td>\n",
       "      <td>Universitas Sumatera Utara</td>\n",
       "      <td>Sumatera Utara</td>\n",
       "      <td>Negeri</td>\n",
       "      <td>Aktif</td>\n",
       "      <td>1633</td>\n",
       "      <td>44432</td>\n",
       "      <td>1 : 27.2</td>\n",
       "      <td>1633</td>\n",
       "      <td>41468</td>\n",
       "      <td>1 : 25.4</td>\n",
       "    </tr>\n",
       "    <tr>\n",
       "      <th>4</th>\n",
       "      <td>1004</td>\n",
       "      <td>Universitas Airlangga</td>\n",
       "      <td>Jawa Timur</td>\n",
       "      <td>Negeri</td>\n",
       "      <td>Aktif</td>\n",
       "      <td>1779</td>\n",
       "      <td>36253</td>\n",
       "      <td>1 : 20.4</td>\n",
       "      <td>1779</td>\n",
       "      <td>35766</td>\n",
       "      <td>1 : 20.1</td>\n",
       "    </tr>\n",
       "    <tr>\n",
       "      <th>5</th>\n",
       "      <td>1005</td>\n",
       "      <td>Universitas Hasanuddin</td>\n",
       "      <td>Sulawesi Selatan</td>\n",
       "      <td>Negeri</td>\n",
       "      <td>Aktif</td>\n",
       "      <td>1909</td>\n",
       "      <td>31396</td>\n",
       "      <td>1 : 16.4</td>\n",
       "      <td>1909</td>\n",
       "      <td>34787</td>\n",
       "      <td>1 : 18.2</td>\n",
       "    </tr>\n",
       "  </tbody>\n",
       "</table>\n",
       "</div>"
      ],
      "text/plain": [
       "   Kode PT                     Nama PT          Provinsi Kategori Status  \\\n",
       "1     1001     Universitas Gadjah Mada   D.I. Yogyakarta   Negeri  Aktif   \n",
       "2     1002       Universitas Indonesia    D.K.I. Jakarta   Negeri  Aktif   \n",
       "3     1003  Universitas Sumatera Utara    Sumatera Utara   Negeri  Aktif   \n",
       "4     1004       Universitas Airlangga        Jawa Timur   Negeri  Aktif   \n",
       "5     1005      Universitas Hasanuddin  Sulawesi Selatan   Negeri  Aktif   \n",
       "\n",
       "   Jml Dosen Tetap 2018/2019  Jml Mhs 2018/2019  \\\n",
       "1                       2703              56200   \n",
       "2                       2273              46248   \n",
       "3                       1633              44432   \n",
       "4                       1779              36253   \n",
       "5                       1909              31396   \n",
       "\n",
       "  Rasio Dosen Tetap/Jumlah Mahasiswa 2018/2019  Jml Dosen Tetap 2019/2020  \\\n",
       "1                                     1 : 20.8                       2703   \n",
       "2                                     1 : 20.3                       2273   \n",
       "3                                     1 : 27.2                       1633   \n",
       "4                                     1 : 20.4                       1779   \n",
       "5                                     1 : 16.4                       1909   \n",
       "\n",
       "   Jml Mhs 2019/2020 Rasio Dosen Tetap/Jumlah Mahasiswa 2019/2020  \n",
       "1              56142                                     1 : 20.8  \n",
       "2              39826                                     1 : 17.5  \n",
       "3              41468                                     1 : 25.4  \n",
       "4              35766                                     1 : 20.1  \n",
       "5              34787                                     1 : 18.2  "
      ]
     },
     "execution_count": 47,
     "metadata": {},
     "output_type": "execute_result"
    }
   ],
   "source": [
    "data.head()"
   ]
  },
  {
   "cell_type": "code",
   "execution_count": 40,
   "metadata": {},
   "outputs": [
    {
     "data": {
      "text/html": [
       "<div>\n",
       "<style scoped>\n",
       "    .dataframe tbody tr th:only-of-type {\n",
       "        vertical-align: middle;\n",
       "    }\n",
       "\n",
       "    .dataframe tbody tr th {\n",
       "        vertical-align: top;\n",
       "    }\n",
       "\n",
       "    .dataframe thead th {\n",
       "        text-align: right;\n",
       "    }\n",
       "</style>\n",
       "<table border=\"1\" class=\"dataframe\">\n",
       "  <thead>\n",
       "    <tr style=\"text-align: right;\">\n",
       "      <th></th>\n",
       "      <th>No.</th>\n",
       "      <th>Kode PT</th>\n",
       "      <th>Nama PT</th>\n",
       "      <th>Provinsi</th>\n",
       "      <th>Kategori</th>\n",
       "      <th>Status</th>\n",
       "      <th>Jml Dosen Tetap 2018/2019</th>\n",
       "      <th>Jml Mhs 2018/2019</th>\n",
       "      <th>Rasio Dosen Tetap/Jumlah Mahasiswa 2018/2019</th>\n",
       "      <th>Jml Dosen Tetap 2019/2020</th>\n",
       "      <th>Jml Mhs 2019/2020</th>\n",
       "      <th>Rasio Dosen Tetap/Jumlah Mahasiswa 2019/2020</th>\n",
       "    </tr>\n",
       "  </thead>\n",
       "  <tbody>\n",
       "    <tr>\n",
       "      <th>1</th>\n",
       "      <td>2</td>\n",
       "      <td>1001</td>\n",
       "      <td>Universitas Gadjah Mada</td>\n",
       "      <td>D.I. Yogyakarta</td>\n",
       "      <td>Negeri</td>\n",
       "      <td>Aktif</td>\n",
       "      <td>2703</td>\n",
       "      <td>56200</td>\n",
       "      <td>1 : 20.8</td>\n",
       "      <td>2703</td>\n",
       "      <td>56142</td>\n",
       "      <td>1 : 20.8</td>\n",
       "    </tr>\n",
       "    <tr>\n",
       "      <th>2</th>\n",
       "      <td>3</td>\n",
       "      <td>1002</td>\n",
       "      <td>Universitas Indonesia</td>\n",
       "      <td>D.K.I. Jakarta</td>\n",
       "      <td>Negeri</td>\n",
       "      <td>Aktif</td>\n",
       "      <td>2273</td>\n",
       "      <td>46248</td>\n",
       "      <td>1 : 20.3</td>\n",
       "      <td>2273</td>\n",
       "      <td>39826</td>\n",
       "      <td>1 : 17.5</td>\n",
       "    </tr>\n",
       "    <tr>\n",
       "      <th>3</th>\n",
       "      <td>4</td>\n",
       "      <td>1003</td>\n",
       "      <td>Universitas Sumatera Utara</td>\n",
       "      <td>Sumatera Utara</td>\n",
       "      <td>Negeri</td>\n",
       "      <td>Aktif</td>\n",
       "      <td>1633</td>\n",
       "      <td>44432</td>\n",
       "      <td>1 : 27.2</td>\n",
       "      <td>1633</td>\n",
       "      <td>41468</td>\n",
       "      <td>1 : 25.4</td>\n",
       "    </tr>\n",
       "    <tr>\n",
       "      <th>4</th>\n",
       "      <td>5</td>\n",
       "      <td>1004</td>\n",
       "      <td>Universitas Airlangga</td>\n",
       "      <td>Jawa Timur</td>\n",
       "      <td>Negeri</td>\n",
       "      <td>Aktif</td>\n",
       "      <td>1779</td>\n",
       "      <td>36253</td>\n",
       "      <td>1 : 20.4</td>\n",
       "      <td>1779</td>\n",
       "      <td>35766</td>\n",
       "      <td>1 : 20.1</td>\n",
       "    </tr>\n",
       "    <tr>\n",
       "      <th>5</th>\n",
       "      <td>6</td>\n",
       "      <td>1005</td>\n",
       "      <td>Universitas Hasanuddin</td>\n",
       "      <td>Sulawesi Selatan</td>\n",
       "      <td>Negeri</td>\n",
       "      <td>Aktif</td>\n",
       "      <td>1909</td>\n",
       "      <td>31396</td>\n",
       "      <td>1 : 16.4</td>\n",
       "      <td>1909</td>\n",
       "      <td>34787</td>\n",
       "      <td>1 : 18.2</td>\n",
       "    </tr>\n",
       "  </tbody>\n",
       "</table>\n",
       "</div>"
      ],
      "text/plain": [
       "   No.  Kode PT                     Nama PT          Provinsi Kategori Status  \\\n",
       "1    2     1001     Universitas Gadjah Mada   D.I. Yogyakarta   Negeri  Aktif   \n",
       "2    3     1002       Universitas Indonesia    D.K.I. Jakarta   Negeri  Aktif   \n",
       "3    4     1003  Universitas Sumatera Utara    Sumatera Utara   Negeri  Aktif   \n",
       "4    5     1004       Universitas Airlangga        Jawa Timur   Negeri  Aktif   \n",
       "5    6     1005      Universitas Hasanuddin  Sulawesi Selatan   Negeri  Aktif   \n",
       "\n",
       "   Jml Dosen Tetap 2018/2019  Jml Mhs 2018/2019  \\\n",
       "1                       2703              56200   \n",
       "2                       2273              46248   \n",
       "3                       1633              44432   \n",
       "4                       1779              36253   \n",
       "5                       1909              31396   \n",
       "\n",
       "  Rasio Dosen Tetap/Jumlah Mahasiswa 2018/2019  Jml Dosen Tetap 2019/2020  \\\n",
       "1                                     1 : 20.8                       2703   \n",
       "2                                     1 : 20.3                       2273   \n",
       "3                                     1 : 27.2                       1633   \n",
       "4                                     1 : 20.4                       1779   \n",
       "5                                     1 : 16.4                       1909   \n",
       "\n",
       "   Jml Mhs 2019/2020 Rasio Dosen Tetap/Jumlah Mahasiswa 2019/2020  \n",
       "1              56142                                     1 : 20.8  \n",
       "2              39826                                     1 : 17.5  \n",
       "3              41468                                     1 : 25.4  \n",
       "4              35766                                     1 : 20.1  \n",
       "5              34787                                     1 : 18.2  "
      ]
     },
     "execution_count": 40,
     "metadata": {},
     "output_type": "execute_result"
    }
   ],
   "source": [
    "# Delete `Prov.` in Provinsi column\n",
    "data['Provinsi'] = data['Provinsi'].str.replace('Prov. ', '')\n",
    "data.head()"
   ]
  },
  {
   "cell_type": "markdown",
   "metadata": {},
   "source": [
    "# Data Storing"
   ]
  },
  {
   "cell_type": "code",
   "execution_count": 4,
   "metadata": {},
   "outputs": [],
   "source": [
    "engine = db.create_engine(f\"postgresql://{os.getenv('DB_USER')}:{os.getenv('DB_PASSWORD')}@{os.getenv('DB_HOST')}\")"
   ]
  },
  {
   "cell_type": "code",
   "execution_count": 70,
   "metadata": {},
   "outputs": [],
   "source": [
    "with engine.connect() as conn:\n",
    "    data.to_sql('universitas', con=conn, index=False)"
   ]
  },
  {
   "cell_type": "markdown",
   "metadata": {},
   "source": [
    "# Data Fetching from Database"
   ]
  },
  {
   "cell_type": "code",
   "execution_count": 5,
   "metadata": {},
   "outputs": [],
   "source": [
    "engine = db.create_engine(f\"postgresql://{os.getenv('DB_USER')}:{os.getenv('DB_PASSWORD')}@{os.getenv('DB_HOST')}\")"
   ]
  },
  {
   "cell_type": "code",
   "execution_count": 6,
   "metadata": {},
   "outputs": [],
   "source": [
    "meta = db.MetaData(bind=engine)\n",
    "meta.reflect()"
   ]
  },
  {
   "cell_type": "code",
   "execution_count": 7,
   "metadata": {},
   "outputs": [],
   "source": [
    "univ = db.Table('universitas', meta, autoload=True, autoload_with=engine)"
   ]
  },
  {
   "cell_type": "code",
   "execution_count": 8,
   "metadata": {},
   "outputs": [
    {
     "data": {
      "text/plain": [
       "5716"
      ]
     },
     "execution_count": 8,
     "metadata": {},
     "output_type": "execute_result"
    }
   ],
   "source": [
    "query = db.select([univ])\n",
    "with engine.connect() as conn:\n",
    "    result = conn.execute(query).fetchall()\n",
    "len(result)"
   ]
  },
  {
   "cell_type": "code",
   "execution_count": 9,
   "metadata": {
    "scrolled": false
   },
   "outputs": [
    {
     "data": {
      "text/html": [
       "<div>\n",
       "<style scoped>\n",
       "    .dataframe tbody tr th:only-of-type {\n",
       "        vertical-align: middle;\n",
       "    }\n",
       "\n",
       "    .dataframe tbody tr th {\n",
       "        vertical-align: top;\n",
       "    }\n",
       "\n",
       "    .dataframe thead th {\n",
       "        text-align: right;\n",
       "    }\n",
       "</style>\n",
       "<table border=\"1\" class=\"dataframe\">\n",
       "  <thead>\n",
       "    <tr style=\"text-align: right;\">\n",
       "      <th></th>\n",
       "      <th>index</th>\n",
       "      <th>Kode PT</th>\n",
       "      <th>Nama PT</th>\n",
       "      <th>Provinsi</th>\n",
       "      <th>Kategori</th>\n",
       "      <th>Status</th>\n",
       "      <th>Jml Dosen Tetap 2018/2019</th>\n",
       "      <th>Jml Mhs 2018/2019</th>\n",
       "      <th>Rasio Dosen Tetap/Jumlah Mahasiswa 2018/2019</th>\n",
       "      <th>Jml Dosen Tetap 2019/2020</th>\n",
       "      <th>Jml Mhs 2019/2020</th>\n",
       "      <th>Rasio Dosen Tetap/Jumlah Mahasiswa 2019/2020</th>\n",
       "    </tr>\n",
       "  </thead>\n",
       "  <tbody>\n",
       "    <tr>\n",
       "      <th>0</th>\n",
       "      <td>1</td>\n",
       "      <td>1001</td>\n",
       "      <td>Universitas Gadjah Mada</td>\n",
       "      <td>D.I. Yogyakarta</td>\n",
       "      <td>Negeri</td>\n",
       "      <td>Aktif</td>\n",
       "      <td>2703</td>\n",
       "      <td>56200</td>\n",
       "      <td>1 : 20.8</td>\n",
       "      <td>2703</td>\n",
       "      <td>56142</td>\n",
       "      <td>1 : 20.8</td>\n",
       "    </tr>\n",
       "    <tr>\n",
       "      <th>1</th>\n",
       "      <td>2</td>\n",
       "      <td>1002</td>\n",
       "      <td>Universitas Indonesia</td>\n",
       "      <td>D.K.I. Jakarta</td>\n",
       "      <td>Negeri</td>\n",
       "      <td>Aktif</td>\n",
       "      <td>2273</td>\n",
       "      <td>46248</td>\n",
       "      <td>1 : 20.3</td>\n",
       "      <td>2273</td>\n",
       "      <td>39826</td>\n",
       "      <td>1 : 17.5</td>\n",
       "    </tr>\n",
       "    <tr>\n",
       "      <th>2</th>\n",
       "      <td>3</td>\n",
       "      <td>1003</td>\n",
       "      <td>Universitas Sumatera Utara</td>\n",
       "      <td>Sumatera Utara</td>\n",
       "      <td>Negeri</td>\n",
       "      <td>Aktif</td>\n",
       "      <td>1633</td>\n",
       "      <td>44432</td>\n",
       "      <td>1 : 27.2</td>\n",
       "      <td>1633</td>\n",
       "      <td>41468</td>\n",
       "      <td>1 : 25.4</td>\n",
       "    </tr>\n",
       "    <tr>\n",
       "      <th>3</th>\n",
       "      <td>4</td>\n",
       "      <td>1004</td>\n",
       "      <td>Universitas Airlangga</td>\n",
       "      <td>Jawa Timur</td>\n",
       "      <td>Negeri</td>\n",
       "      <td>Aktif</td>\n",
       "      <td>1779</td>\n",
       "      <td>36253</td>\n",
       "      <td>1 : 20.4</td>\n",
       "      <td>1779</td>\n",
       "      <td>35766</td>\n",
       "      <td>1 : 20.1</td>\n",
       "    </tr>\n",
       "    <tr>\n",
       "      <th>4</th>\n",
       "      <td>5</td>\n",
       "      <td>1005</td>\n",
       "      <td>Universitas Hasanuddin</td>\n",
       "      <td>Sulawesi Selatan</td>\n",
       "      <td>Negeri</td>\n",
       "      <td>Aktif</td>\n",
       "      <td>1909</td>\n",
       "      <td>31396</td>\n",
       "      <td>1 : 16.4</td>\n",
       "      <td>1909</td>\n",
       "      <td>34787</td>\n",
       "      <td>1 : 18.2</td>\n",
       "    </tr>\n",
       "    <tr>\n",
       "      <th>...</th>\n",
       "      <td>...</td>\n",
       "      <td>...</td>\n",
       "      <td>...</td>\n",
       "      <td>...</td>\n",
       "      <td>...</td>\n",
       "      <td>...</td>\n",
       "      <td>...</td>\n",
       "      <td>...</td>\n",
       "      <td>...</td>\n",
       "      <td>...</td>\n",
       "      <td>...</td>\n",
       "      <td>...</td>\n",
       "    </tr>\n",
       "    <tr>\n",
       "      <th>5711</th>\n",
       "      <td>5712</td>\n",
       "      <td>495003</td>\n",
       "      <td>Politeknik STIA LAN Makassar</td>\n",
       "      <td>Sulawesi Selatan</td>\n",
       "      <td>Negeri</td>\n",
       "      <td>Aktif</td>\n",
       "      <td>45</td>\n",
       "      <td>550</td>\n",
       "      <td>1 : 12.2</td>\n",
       "      <td>45</td>\n",
       "      <td>805</td>\n",
       "      <td>1 : 17.9</td>\n",
       "    </tr>\n",
       "    <tr>\n",
       "      <th>5712</th>\n",
       "      <td>5713</td>\n",
       "      <td>504001</td>\n",
       "      <td>Akademi Metrologi dan Instrumentasi</td>\n",
       "      <td>Jawa Barat</td>\n",
       "      <td>None</td>\n",
       "      <td>Aktif</td>\n",
       "      <td>9</td>\n",
       "      <td>165</td>\n",
       "      <td>1 : 18.3</td>\n",
       "      <td>9</td>\n",
       "      <td>165</td>\n",
       "      <td>1 : 18.3</td>\n",
       "    </tr>\n",
       "    <tr>\n",
       "      <th>5713</th>\n",
       "      <td>5714</td>\n",
       "      <td>513001</td>\n",
       "      <td>Sekolah Tinggi Intelijen Negara</td>\n",
       "      <td>Jawa Barat</td>\n",
       "      <td>None</td>\n",
       "      <td>Aktif</td>\n",
       "      <td>22</td>\n",
       "      <td>0</td>\n",
       "      <td>1 : 0</td>\n",
       "      <td>22</td>\n",
       "      <td>0</td>\n",
       "      <td>1 : 0</td>\n",
       "    </tr>\n",
       "    <tr>\n",
       "      <th>5714</th>\n",
       "      <td>5715</td>\n",
       "      <td>525001</td>\n",
       "      <td>Politeknik Pekerjaan Umum</td>\n",
       "      <td>Jawa Tengah</td>\n",
       "      <td>None</td>\n",
       "      <td>Aktif</td>\n",
       "      <td>23</td>\n",
       "      <td>0</td>\n",
       "      <td>1 : 0</td>\n",
       "      <td>23</td>\n",
       "      <td>137</td>\n",
       "      <td>1 : 6</td>\n",
       "    </tr>\n",
       "    <tr>\n",
       "      <th>5715</th>\n",
       "      <td>5716</td>\n",
       "      <td>535001</td>\n",
       "      <td>Politeknik Ketenagakerjaan</td>\n",
       "      <td>D.K.I. Jakarta</td>\n",
       "      <td>None</td>\n",
       "      <td>Aktif</td>\n",
       "      <td>17</td>\n",
       "      <td>90</td>\n",
       "      <td>1 : 5.3</td>\n",
       "      <td>17</td>\n",
       "      <td>0</td>\n",
       "      <td>1 : 0</td>\n",
       "    </tr>\n",
       "  </tbody>\n",
       "</table>\n",
       "<p>5716 rows × 12 columns</p>\n",
       "</div>"
      ],
      "text/plain": [
       "      index  Kode PT                              Nama PT          Provinsi  \\\n",
       "0         1     1001              Universitas Gadjah Mada   D.I. Yogyakarta   \n",
       "1         2     1002                Universitas Indonesia    D.K.I. Jakarta   \n",
       "2         3     1003           Universitas Sumatera Utara    Sumatera Utara   \n",
       "3         4     1004                Universitas Airlangga        Jawa Timur   \n",
       "4         5     1005               Universitas Hasanuddin  Sulawesi Selatan   \n",
       "...     ...      ...                                  ...               ...   \n",
       "5711   5712   495003         Politeknik STIA LAN Makassar  Sulawesi Selatan   \n",
       "5712   5713   504001  Akademi Metrologi dan Instrumentasi        Jawa Barat   \n",
       "5713   5714   513001      Sekolah Tinggi Intelijen Negara        Jawa Barat   \n",
       "5714   5715   525001            Politeknik Pekerjaan Umum       Jawa Tengah   \n",
       "5715   5716   535001           Politeknik Ketenagakerjaan    D.K.I. Jakarta   \n",
       "\n",
       "     Kategori Status  Jml Dosen Tetap 2018/2019  Jml Mhs 2018/2019  \\\n",
       "0      Negeri  Aktif                       2703              56200   \n",
       "1      Negeri  Aktif                       2273              46248   \n",
       "2      Negeri  Aktif                       1633              44432   \n",
       "3      Negeri  Aktif                       1779              36253   \n",
       "4      Negeri  Aktif                       1909              31396   \n",
       "...       ...    ...                        ...                ...   \n",
       "5711   Negeri  Aktif                         45                550   \n",
       "5712     None  Aktif                          9                165   \n",
       "5713     None  Aktif                         22                  0   \n",
       "5714     None  Aktif                         23                  0   \n",
       "5715     None  Aktif                         17                 90   \n",
       "\n",
       "     Rasio Dosen Tetap/Jumlah Mahasiswa 2018/2019  Jml Dosen Tetap 2019/2020  \\\n",
       "0                                        1 : 20.8                       2703   \n",
       "1                                        1 : 20.3                       2273   \n",
       "2                                        1 : 27.2                       1633   \n",
       "3                                        1 : 20.4                       1779   \n",
       "4                                        1 : 16.4                       1909   \n",
       "...                                           ...                        ...   \n",
       "5711                                     1 : 12.2                         45   \n",
       "5712                                     1 : 18.3                          9   \n",
       "5713                                        1 : 0                         22   \n",
       "5714                                        1 : 0                         23   \n",
       "5715                                      1 : 5.3                         17   \n",
       "\n",
       "      Jml Mhs 2019/2020 Rasio Dosen Tetap/Jumlah Mahasiswa 2019/2020  \n",
       "0                 56142                                     1 : 20.8  \n",
       "1                 39826                                     1 : 17.5  \n",
       "2                 41468                                     1 : 25.4  \n",
       "3                 35766                                     1 : 20.1  \n",
       "4                 34787                                     1 : 18.2  \n",
       "...                 ...                                          ...  \n",
       "5711                805                                     1 : 17.9  \n",
       "5712                165                                     1 : 18.3  \n",
       "5713                  0                                        1 : 0  \n",
       "5714                137                                        1 : 6  \n",
       "5715                  0                                        1 : 0  \n",
       "\n",
       "[5716 rows x 12 columns]"
      ]
     },
     "execution_count": 9,
     "metadata": {},
     "output_type": "execute_result"
    }
   ],
   "source": [
    "data = pd.DataFrame.from_records(result, columns=univ.c.keys())\n",
    "data"
   ]
  },
  {
   "cell_type": "markdown",
   "metadata": {},
   "source": [
    "# Exploratory Data Analysis"
   ]
  },
  {
   "cell_type": "code",
   "execution_count": 22,
   "metadata": {},
   "outputs": [],
   "source": [
    "nominatim = Nominatim(user_agent='id-state')\n",
    "photon = Photon(user_agent='id_state')"
   ]
  },
  {
   "cell_type": "code",
   "execution_count": 69,
   "metadata": {},
   "outputs": [],
   "source": [
    "def get_location(place):\n",
    "    loc = photon.geocode(place)\n",
    "    try:\n",
    "        return loc.latitude, loc.longitude\n",
    "    except:\n",
    "        return None"
   ]
  },
  {
   "cell_type": "markdown",
   "metadata": {},
   "source": [
    "### Peta Distribusi Jumlah Perguruan Tinggi di Tiap Provinsi"
   ]
  },
  {
   "cell_type": "code",
   "execution_count": 25,
   "metadata": {
    "scrolled": true
   },
   "outputs": [
    {
     "data": {
      "text/plain": [
       "Provinsi\n",
       "Aceh                                     (4.3685491, 97.0253024)\n",
       "Bali                            (-8.23565805, 115.1223865976744)\n",
       "Bangka Belitung                        (-2.7052886, 106.3585607)\n",
       "Banten                         (-6.47800285, 105.54102849016589)\n",
       "Bengkulu                               (-3.5186763, 102.5359834)\n",
       "D.I. Yogyakarta        (-7.9778383999999996, 110.36722565020224)\n",
       "D.K.I. Jakarta                          (-6.1753942, 106.827183)\n",
       "Gorontalo                               (0.7186174, 122.4555927)\n",
       "Jambi                           (-1.6454854, 102.93517597904014)\n",
       "Jawa Barat                             (-6.8891904, 107.6404716)\n",
       "Jawa Tengah                     (-5.6259648, 110.37164897312938)\n",
       "Jawa Timur                             (-7.6977397, 112.4914199)\n",
       "Kalimantan Barat       (-1.2003376000000001, 109.93193384532759)\n",
       "Kalimantan Selatan                     (-2.9285686, 115.3700718)\n",
       "Kalimantan Tengah                       (-1.499583, 113.2903307)\n",
       "Kalimantan Timur                        (0.7884397, 116.2419977)\n",
       "Kalimantan Utara                        (3.0235817, 116.2049306)\n",
       "Kepulauan Riau                         (-0.1547846, 104.5803745)\n",
       "Lampung                                (-4.8555039, 105.0272986)\n",
       "Maluku                          (-3.4591158, 126.65618888695283)\n",
       "Maluku Utara                            (0.6301215, 127.9720219)\n",
       "Nusa Tenggara Barat                     (-8.7892855, 117.146169)\n",
       "Nusa Tenggara Timur                    (-8.5656787, 120.6978581)\n",
       "Papua                                  (-5.6816069, 144.2489081)\n",
       "Papua Barat                             (-1.3842356, 132.902528)\n",
       "Riau                            (0.94000845, 101.65561770919261)\n",
       "Sulawesi Barat                         (-2.4974546, 119.3918955)\n",
       "Sulawesi Selatan                       (-3.6446718, 119.9471906)\n",
       "Sulawesi Tengah                        (-1.6937786, 120.8088555)\n",
       "Sulawesi Tenggara                      (-3.5491199, 121.7279646)\n",
       "Sulawesi Utara                           (0.6555692, 124.090151)\n",
       "Sumatera Barat                 (-1.33589025, 100.07222762395327)\n",
       "Sumatera Selatan                       (-3.1266842, 104.0930554)\n",
       "Sumatera Utara                           (2.1923519, 99.3812201)\n",
       "Name: Location, dtype: object"
      ]
     },
     "execution_count": 25,
     "metadata": {},
     "output_type": "execute_result"
    }
   ],
   "source": [
    "byProv = data.groupby('Provinsi').count()\n",
    "byProv['Location'] = [get_location(prov) for prov in byProv.index]\n",
    "byProv.Location"
   ]
  },
  {
   "cell_type": "code",
   "execution_count": 72,
   "metadata": {
    "scrolled": false
   },
   "outputs": [
    {
     "data": {
      "text/html": [
       "<div style=\"width:100%;\"><div style=\"position:relative;width:100%;height:0;padding-bottom:60%;\"><span style=\"color:#565656\">Make this Notebook Trusted to load map: File -> Trust Notebook</span><iframe src=\"about:blank\" style=\"position:absolute;width:100%;height:100%;left:0;top:0;border:none !important;\" data-html=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 onload=\"this.contentDocument.open();this.contentDocument.write(atob(this.getAttribute('data-html')));this.contentDocument.close();\" allowfullscreen webkitallowfullscreen mozallowfullscreen></iframe></div></div>"
      ],
      "text/plain": [
       "<folium.folium.Map at 0x21f13731be0>"
      ]
     },
     "execution_count": 72,
     "metadata": {},
     "output_type": "execute_result"
    }
   ],
   "source": [
    "m = folium.Map(location=get_location('Indonesia'), zoom_start=5, tiles='CartoDB dark_matter', min_zoom=5, max_zoom=5)\n",
    "for prov in byProv.index:\n",
    "    folium.CircleMarker(location=byProv.loc[prov, 'Location'], \n",
    "                        popup=f'''<strong>{prov}</strong>\\\n",
    "                        <br><br>\\\n",
    "                        {byProv.loc[prov, 'Kode PT']}''',\n",
    "                        radius=byProv.loc[prov, 'Kode PT']/10,\n",
    "                        stroke=False, fill=True, fill_opacity=0.5\n",
    "                       ).add_to(m)\n",
    "\n",
    "m.save('pt_per_prov.html')\n",
    "m"
   ]
  },
  {
   "cell_type": "markdown",
   "metadata": {},
   "source": [
    "### Peta Distribusi Jumlah Mahasiswa di Tiap Provinsi - 2019"
   ]
  },
  {
   "cell_type": "markdown",
   "metadata": {},
   "source": [
    "### Peta Distribusi Jumlah Dosen di Tiap Provinsi - 2019"
   ]
  },
  {
   "cell_type": "markdown",
   "metadata": {},
   "source": [
    "### Peta Distribusi Mahasiswa - 2019"
   ]
  },
  {
   "cell_type": "markdown",
   "metadata": {},
   "source": [
    "### Peta Distribusi Dosen - 2019"
   ]
  },
  {
   "cell_type": "markdown",
   "metadata": {},
   "source": [
    "### Peta Rasio Dosen dan Mahasiswa - 2019"
   ]
  }
 ],
 "metadata": {
  "gist": {
   "data": {
    "description": "Untitled.ipynb",
    "public": false
   },
   "id": ""
  },
  "kernelspec": {
   "display_name": "Python 3",
   "language": "python",
   "name": "python3"
  },
  "language_info": {
   "codemirror_mode": {
    "name": "ipython",
    "version": 3
   },
   "file_extension": ".py",
   "mimetype": "text/x-python",
   "name": "python",
   "nbconvert_exporter": "python",
   "pygments_lexer": "ipython3",
   "version": "3.9.0"
  }
 },
 "nbformat": 4,
 "nbformat_minor": 4
}
